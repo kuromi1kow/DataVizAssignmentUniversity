{
  "nbformat": 4,
  "nbformat_minor": 0,
  "metadata": {
    "colab": {
      "provenance": []
    },
    "kernelspec": {
      "name": "python3",
      "display_name": "Python 3"
    },
    "language_info": {
      "name": "python"
    }
  },
  "cells": [
    {
      "cell_type": "code",
      "execution_count": 18,
      "metadata": {
        "colab": {
          "base_uri": "https://localhost:8080/"
        },
        "id": "oZQhD_Sij9ht",
        "outputId": "8bea797a-34be-4570-b229-aa12d7a41dfc"
      },
      "outputs": [
        {
          "output_type": "stream",
          "name": "stdout",
          "text": [
            "MAU for November: 7639\n"
          ]
        }
      ],
      "source": [
        "import pandas as pd\n",
        "\n",
        "file_path = '/content/drive/MyDrive/DataVis/Данные для тестового задания.xlsx'\n",
        "df = pd.ExcelFile(file_path)\n",
        "\n",
        "\n",
        "audience_data = pd.read_excel(df, sheet_name='Audience data')\n",
        "\n",
        "# Extract data only for November\n",
        "audience_data['date'] = pd.to_datetime(audience_data['date'])\n",
        "november_data = audience_data[audience_data['date'].dt.month == 11]\n",
        "\n",
        "# Calculate MAU (number of unique users who interacted in November)\n",
        "mau = november_data['user_id'].nunique()\n",
        "print(f\"MAU for November: {mau}\")\n"
      ]
    },
    {
      "cell_type": "code",
      "source": [
        "# Calculate DAU (average unique users per day in November)\n",
        "dau = november_data.groupby(november_data['date'].dt.date)['user_id'].nunique().mean()\n",
        "print(f\"Average DAU for November: {dau}\")\n"
      ],
      "metadata": {
        "colab": {
          "base_uri": "https://localhost:8080/"
        },
        "id": "WcBZM6jRmPb9",
        "outputId": "fa49745e-1fd0-4a01-eafc-e3652b367f51"
      },
      "execution_count": 3,
      "outputs": [
        {
          "output_type": "stream",
          "name": "stdout",
          "text": [
            "Average DAU for November: 560.4666666666667\n"
          ]
        }
      ]
    },
    {
      "cell_type": "code",
      "source": [
        "# Filter users who joined on November 1st\n",
        "nov_1st_users = november_data[november_data['date'].dt.day == 1]['user_id'].unique()\n",
        "\n",
        "# Check how many of these users used the product again on November 2nd\n",
        "nov_2nd_users = november_data[november_data['date'].dt.day == 2]['user_id'].unique()\n",
        "\n",
        "# Calculate the first-day retention rate\n",
        "retention_rate = len(set(nov_1st_users) & set(nov_2nd_users)) / len(nov_1st_users) * 100\n",
        "print(f\"First-Day Retention Rate: {retention_rate:.2f}%\")\n"
      ],
      "metadata": {
        "colab": {
          "base_uri": "https://localhost:8080/"
        },
        "id": "ELP3pgaBmTpN",
        "outputId": "2c900a3d-4a8b-431f-aace-fa2478758dc3"
      },
      "execution_count": 4,
      "outputs": [
        {
          "output_type": "stream",
          "name": "stdout",
          "text": [
            "First-Day Retention Rate: 26.65%\n"
          ]
        }
      ]
    },
    {
      "cell_type": "code",
      "source": [
        "# Calculate user conversion per ad view for November\n",
        "total_users = november_data['user_id'].nunique()  # Total unique users in November\n",
        "ad_viewers = november_data[november_data['view_adverts'] > 0]['user_id'].nunique()  # Users who viewed at least one ad\n",
        "\n",
        "# Calculate conversion rate\n",
        "conversion_rate = (ad_viewers / total_users) * 100\n",
        "print(f\"User Conversion per Ad View: {conversion_rate:.2f}%\")\n"
      ],
      "metadata": {
        "colab": {
          "base_uri": "https://localhost:8080/"
        },
        "id": "zvTiJdZIm6-0",
        "outputId": "743be913-a9c9-4cb9-dd06-b0a3671e34b3"
      },
      "execution_count": 5,
      "outputs": [
        {
          "output_type": "stream",
          "name": "stdout",
          "text": [
            "User Conversion per Ad View: 46.31%\n"
          ]
        }
      ]
    },
    {
      "cell_type": "code",
      "source": [
        "# Calculate the average number of ads viewed per user in November\n",
        "average_ads_per_user = november_data.groupby('user_id')['view_adverts'].sum().mean()\n",
        "print(f\"Average number of ads viewed per user: {average_ads_per_user:.2f}\")\n"
      ],
      "metadata": {
        "colab": {
          "base_uri": "https://localhost:8080/"
        },
        "id": "YhAMNBz6nAGJ",
        "outputId": "e70a6dd3-c593-4560-9f12-ad623e7ea315"
      },
      "execution_count": 6,
      "outputs": [
        {
          "output_type": "stream",
          "name": "stdout",
          "text": [
            "Average number of ads viewed per user: 2.87\n"
          ]
        }
      ]
    },
    {
      "cell_type": "code",
      "source": [
        "# NetPromoterScore calculation\n",
        "promoters = 1200\n",
        "critics = 500\n",
        "total_survey_responses = 2000\n",
        "\n",
        "# NPS formula: (% of promoters - % of detractors)\n",
        "nps = (promoters / total_survey_responses * 100) - (critics / total_survey_responses * 100)\n",
        "print(f\"NPS Score: {nps:.2f}%\")\n"
      ],
      "metadata": {
        "colab": {
          "base_uri": "https://localhost:8080/"
        },
        "id": "S56RkCgtnBfX",
        "outputId": "25b10358-aaed-4ff3-9534-36a371ed1662"
      },
      "execution_count": 7,
      "outputs": [
        {
          "output_type": "stream",
          "name": "stdout",
          "text": [
            "NPS Score: 35.00%\n"
          ]
        }
      ]
    },
    {
      "cell_type": "code",
      "source": [
        "from scipy import stats\n",
        "\n",
        "# Function to perform t-test between control and test groups\n",
        "def perform_t_test(experiment_num):\n",
        "    experiment_data = ab_test_data[ab_test_data['experiment_num'] == experiment_num]\n",
        "\n",
        "    control_group = experiment_data[experiment_data['experiment_group'] == 'control']['revenue']\n",
        "    test_group = experiment_data[experiment_data['experiment_group'] == 'test']['revenue']\n",
        "\n",
        "    # Perform t-test\n",
        "    t_stat, p_value = stats.ttest_ind(control_group, test_group, equal_var=False)\n",
        "    return p_value\n",
        "\n",
        "# Get p-values for each experiment\n",
        "for experiment_num in ab_test_data['experiment_num'].unique():\n",
        "    p_value = perform_t_test(experiment_num)\n",
        "    print(f\"Experiment {experiment_num}: p-value = {p_value:.5f}\")\n"
      ],
      "metadata": {
        "colab": {
          "base_uri": "https://localhost:8080/"
        },
        "id": "7cIsdlJ7nmUI",
        "outputId": "8518a13b-8431-45e3-a968-98f1581233bb"
      },
      "execution_count": 9,
      "outputs": [
        {
          "output_type": "stream",
          "name": "stdout",
          "text": [
            "Experiment 1: p-value = 0.68897\n",
            "Experiment 2: p-value = 0.00113\n",
            "Experiment 3: p-value = 0.06032\n"
          ]
        }
      ]
    },
    {
      "cell_type": "code",
      "source": [
        "median_age = listers_data['age'].median()\n",
        "print(f\"Median age of users: {median_age}\")\n"
      ],
      "metadata": {
        "colab": {
          "base_uri": "https://localhost:8080/"
        },
        "id": "dPkgkp3Xrd6K",
        "outputId": "4102f62e-1672-49e0-f871-51a6ae08bfa8"
      },
      "execution_count": 22,
      "outputs": [
        {
          "output_type": "stream",
          "name": "stdout",
          "text": [
            "Median age of users: 28.0\n"
          ]
        }
      ]
    }
  ]
}